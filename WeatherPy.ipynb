{
 "cells": [
  {
   "cell_type": "markdown",
   "metadata": {},
   "source": [
    "# World Cities | Weather Analysis"
   ]
  },
  {
   "cell_type": "markdown",
   "metadata": {},
   "source": [
    "### As illustrated by the temperature plot, cities closer to the equator (latitude 0) have higher temperatures, while cities approaching the outer poles have low temperatures.\n",
    "\n",
    "### There does not appear to be any significant correlation between cloudiness and proximity to the equator. In fact, the cloudiness plot illustrates a wide variety of cloudiness levels among  world cities.\n",
    "\n",
    "### There does not appear to be a strong correlation between wind speed and proximity to the equator. However, most of the world cities sampled tend to have low to medium wind speeds. A few outliers are characterized with high wind speeds."
   ]
  },
  {
   "cell_type": "code",
   "execution_count": null,
   "metadata": {
    "scrolled": true
   },
   "outputs": [],
   "source": [
    "# Dependencies and Setup\n",
    "import matplotlib.pyplot as plt\n",
    "import pandas as pd\n",
    "import numpy as np\n",
    "import requests\n",
    "import time\n",
    "import json\n",
    "from pprint import pprint\n",
    "\n",
    "# Import API key\n",
    "from config import weather_key\n",
    "\n",
    "# Incorporated citipy to determine city based on latitude and longitude\n",
    "from citipy import citipy\n",
    "\n",
    "# Output File (CSV)\n",
    "output_data_file = \"output_data/cities.csv\"\n",
    "\n",
    "# Range of latitudes and longitudes\n",
    "lat_range = (-90, 90)\n",
    "lng_range = (-180, 180)"
   ]
  },
  {
   "cell_type": "markdown",
   "metadata": {},
   "source": [
    "## Generate Cities List"
   ]
  },
  {
   "cell_type": "code",
   "execution_count": null,
   "metadata": {},
   "outputs": [],
   "source": [
    "# List for holding lat_lngs and cities\n",
    "lat_lngs = []\n",
    "cities = []\n",
    "\n",
    "# Create a set of random lat and lng combinations\n",
    "lats = np.random.uniform(low=-90.000, high=90.000, size=1500)\n",
    "lngs = np.random.uniform(low=-180.000, high=180.000, size=1500)\n",
    "lat_lngs = zip(lats, lngs)\n",
    "\n",
    "# Identify nearest city for each lat, lng combination\n",
    "for lat_lng in lat_lngs:\n",
    "    city = citipy.nearest_city(lat_lng[0], lat_lng[1]).city_name\n",
    "    \n",
    "    # If the city is unique, then add it to a our cities list\n",
    "    if city not in cities:\n",
    "        cities.append(city)\n",
    "\n",
    "# Print the city count to confirm sufficient count\n",
    "len(cities)"
   ]
  },
  {
   "cell_type": "code",
   "execution_count": null,
   "metadata": {},
   "outputs": [],
   "source": [
    "# create cities dataframe\n",
    "cities_df = pd.DataFrame({\"City\": cities})\n",
    "cities_df.head()"
   ]
  },
  {
   "cell_type": "code",
   "execution_count": null,
   "metadata": {},
   "outputs": [],
   "source": [
    "# set up additional columns to hold information\n",
    "cities_df['Temp'] = \"\"\n",
    "cities_df['Humidity'] = \"\"\n",
    "cities_df['Cloudiness'] = \"\"\n",
    "cities_df['Wind Speed'] = \"\"\n",
    "cities_df['Latitude'] = \"\"\n",
    "\n",
    "cities_df.head()"
   ]
  },
  {
   "cell_type": "markdown",
   "metadata": {},
   "source": [
    "## Perform API Calls"
   ]
  },
  {
   "cell_type": "code",
   "execution_count": null,
   "metadata": {},
   "outputs": [],
   "source": [
    "# Starting URL for Weather Map API Call\n",
    "url = \"http://api.openweathermap.org/data/2.5/weather?\"\n",
    "units = \"Imperial\"\n",
    "\n",
    "query_url = f\"{url}appid={weather_key}&units={units}&q=\" \n",
    "query_url\n"
   ]
  },
  {
   "cell_type": "code",
   "execution_count": null,
   "metadata": {},
   "outputs": [],
   "source": [
    "# # query url needs a city at the end\n",
    "# # test with Paris\n",
    "\n",
    "# parisurl = query_url+\"Paris\"\n",
    "# parisurl\n",
    "\n",
    "# parisresp = requests.get(parisurl).json()\n",
    "# pprint(parisresp)\n",
    "\n",
    "# paristemp = parisresp[\"main\"][\"temp\"]\n",
    "# parishumid = parisresp[\"main\"][\"humidity\"]\n",
    "# parisclouds = parisresp[\"clouds\"][\"all\"]\n",
    "# pariswinds = parisresp[\"wind\"][\"speed\"]\n",
    "\n",
    "# print(paristemp)\n",
    "# print(parishumid)\n",
    "# print(parisclouds)\n",
    "# print(pariswinds)\n",
    "\n"
   ]
  },
  {
   "cell_type": "code",
   "execution_count": null,
   "metadata": {},
   "outputs": [],
   "source": [
    "temps = []\n",
    "humidity = []\n",
    "clouds = []\n",
    "wind = []\n",
    "lati = []\n",
    "\n",
    "print(\"Beginning Data Retrieval\")\n",
    "print(\"---------------------------------\")\n",
    "\n",
    "# use iterrows to iterate through pandas dataframe\n",
    "for index, row in cities_df.iterrows():\n",
    "\n",
    "    # get city from df\n",
    "    city = row['City']\n",
    "\n",
    "    # assemble url and make API request\n",
    "    print(f\"Retrieving Results for Index {index}: {city}.\")\n",
    "    print(f\"from: {query_url}{city}\")\n",
    "    response = requests.get(query_url+city).json()\n",
    "    \n",
    "#     # extract results\n",
    "#     results = response['results']\n",
    "    \n",
    "    try:\n",
    "                \n",
    "        cities_df.loc[index, 'Temp'] = float(response[\"main\"][\"temp\"])\n",
    "        cities_df.loc[index, 'Humidity'] = float(response[\"main\"][\"humidity\"])\n",
    "        cities_df.loc[index, 'Cloudiness'] = float(response[\"clouds\"][\"all\"])\n",
    "        cities_df.loc[index, 'Wind Speed'] = float(response[\"wind\"][\"speed\"])\n",
    "        cities_df.loc[index, 'Latitude'] = float(response[\"coord\"][\"lat\"])\n",
    "        \n",
    "    except (KeyError, IndexError):\n",
    "        print(\"Missing field/result... skipping.\")\n",
    "        \n",
    "    print(\"------------\")"
   ]
  },
  {
   "cell_type": "code",
   "execution_count": null,
   "metadata": {
    "scrolled": true
   },
   "outputs": [],
   "source": [
    "len(cities_df)\n",
    "pd.to_numeric(cities_df[\"Temp\"], errors = \"ignore\")\n",
    "pd.to_numeric(cities_df[\"Latitude\"], errors = \"ignore\")\n",
    "pd.to_numeric(cities_df[\"Cloudiness\"], errors = \"ignore\")\n",
    "pd.to_numeric(cities_df[\"Wind Speed\"], errors = \"ignore\")\n",
    "cities_df.head()"
   ]
  },
  {
   "cell_type": "code",
   "execution_count": null,
   "metadata": {},
   "outputs": [],
   "source": [
    "cities_df.dtypes"
   ]
  },
  {
   "cell_type": "code",
   "execution_count": null,
   "metadata": {
    "scrolled": true
   },
   "outputs": [],
   "source": [
    "# # Build a scatter plot for each data type\n",
    "plt.scatter(cities_df[\"Latitude\"], cities_df[\"Temp\"], marker=\"o\", color = \"pink\")\n",
    "\n",
    "# # Incorporate the other graph properties\n",
    "plt.title(\"Temperature in World Cities (10/1/18)\")\n",
    "plt.ylabel(\"Temperature\")\n",
    "plt.xlabel(\"Latitude\")\n",
    "plt.grid(True)\n",
    "\n",
    "plt.savefig(\"TemperatureInWorldCities.png\")"
   ]
  },
  {
   "cell_type": "code",
   "execution_count": null,
   "metadata": {},
   "outputs": [],
   "source": [
    "# # Build a scatter plot for each data type\n",
    "plt.scatter(cities_df[\"Latitude\"], cities_df[\"Humidity\"], marker=\"o\", color = \"teal\")\n",
    "\n",
    "# # Incorporate the other graph properties\n",
    "plt.title(\"Humidity in World Cities (10/1/18)\")\n",
    "plt.ylabel(\"Humidity\")\n",
    "plt.xlabel(\"Latitude\")\n",
    "plt.grid(True)\n",
    "\n",
    "plt.savefig(\"HumidityInWorldCities.png\")"
   ]
  },
  {
   "cell_type": "code",
   "execution_count": null,
   "metadata": {},
   "outputs": [],
   "source": [
    "# # Build a scatter plot for each data type\n",
    "plt.scatter(cities_df[\"Latitude\"], cities_df[\"Cloudiness\"], marker=\"o\", color = \"skyblue\")\n",
    "\n",
    "# # Incorporate the other graph properties\n",
    "plt.title(\"Cloudiness in World Cities (10/1/18)\")\n",
    "plt.ylabel(\"Cloudiness\")\n",
    "plt.xlabel(\"Latitude\")\n",
    "plt.grid(True)\n",
    "\n",
    "plt.savefig(\"CloudinessInWorldCities.png\")"
   ]
  },
  {
   "cell_type": "code",
   "execution_count": null,
   "metadata": {},
   "outputs": [],
   "source": [
    "# # Build a scatter plot for each data type\n",
    "plt.scatter(cities_df[\"Latitude\"], cities_df[\"Wind Speed\"], marker=\"o\", color = \"orange\")\n",
    "\n",
    "# # Incorporate the other graph properties\n",
    "plt.title(\"Wind Speed in World Cities (10/1/18)\")\n",
    "plt.ylabel(\"Wind Speed\")\n",
    "plt.xlabel(\"Latitude\")\n",
    "plt.grid(True)\n",
    "\n",
    "plt.savefig(\"WindSpeedInWorldCities.png\")"
   ]
  },
  {
   "cell_type": "code",
   "execution_count": null,
   "metadata": {},
   "outputs": [],
   "source": [
    "# Save csv file of dataframe\n",
    "cities_df.to_csv(\"./WeatherPy.csv\")"
   ]
  },
  {
   "cell_type": "code",
   "execution_count": null,
   "metadata": {},
   "outputs": [],
   "source": []
  }
 ],
 "metadata": {
  "anaconda-cloud": {},
  "kernelspec": {
   "display_name": "Python [default]",
   "language": "python",
   "name": "python3"
  },
  "language_info": {
   "codemirror_mode": {
    "name": "ipython",
    "version": 3
   },
   "file_extension": ".py",
   "mimetype": "text/x-python",
   "name": "python",
   "nbconvert_exporter": "python",
   "pygments_lexer": "ipython3",
   "version": "3.6.5"
  }
 },
 "nbformat": 4,
 "nbformat_minor": 1
}
